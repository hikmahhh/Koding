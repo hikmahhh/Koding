{
 "cells": [
  {
   "cell_type": "code",
   "execution_count": null,
   "id": "6f754f63-200a-42e5-80dd-d7e05459b547",
   "metadata": {},
   "outputs": [],
   "source": [
    "https://raw.githubusercontent.com/hikmahhh/dataa/main/hikmahh.csv"
   ]
  },
  {
   "cell_type": "code",
   "execution_count": 8,
   "id": "2b541832-72a1-4ed8-ba38-2d685a78f3f7",
   "metadata": {
    "tags": []
   },
   "outputs": [],
   "source": [
    "import pandas as pd\n",
    "import statsmodels.api as sm\n",
    "\n",
    "#Uji Autokorelasi\n",
    "import pandas as pd\n",
    "import matplotlib.pyplot as plt\n",
    "from statsmodels.graphics.tsaplots import plot_acf\n",
    "\n",
    "#UJI Heteroskedastisitas \n",
    "import pandas as pd\n",
    "import statsmodels.api as sm\n",
    "from statsmodels.stats.diagnostic import het_white\n",
    "\n",
    "#UJI Mulikolonieritas\n",
    "import pandas as pd\n",
    "import numpy as np\n",
    "from statsmodels.stats.outliers_influence import variance_inflation_factor\n",
    "\n",
    "#Algortima Regresi dengan paket STATMODEL\n",
    "import pandas as pd\n",
    "import statsmodels.api as sm\n",
    "\n"
   ]
  },
  {
   "cell_type": "code",
   "execution_count": 4,
   "id": "a0e3ad87-ee7a-4788-a0f4-395b196a8111",
   "metadata": {
    "tags": []
   },
   "outputs": [
    {
     "name": "stdout",
     "output_type": "stream",
     "text": [
      "                            OLS Regression Results                            \n",
      "==============================================================================\n",
      "Dep. Variable:                      Y   R-squared:                       0.791\n",
      "Model:                            OLS   Adj. R-squared:                  0.761\n",
      "Method:                 Least Squares   F-statistic:                     26.54\n",
      "Date:                Fri, 13 Oct 2023   Prob (F-statistic):           1.72e-05\n",
      "Time:                        17:27:38   Log-Likelihood:                -52.751\n",
      "No. Observations:                  17   AIC:                             111.5\n",
      "Df Residuals:                      14   BIC:                             114.0\n",
      "Df Model:                           2                                         \n",
      "Covariance Type:            nonrobust                                         \n",
      "==============================================================================\n",
      "                 coef    std err          t      P>|t|      [0.025      0.975]\n",
      "------------------------------------------------------------------------------\n",
      "const         39.0024      7.860      4.962      0.000      22.145      55.860\n",
      "X1             0.4208      0.213      1.971      0.069      -0.037       0.879\n",
      "X2             0.1265      0.159      0.797      0.439      -0.214       0.467\n",
      "==============================================================================\n",
      "Omnibus:                        1.701   Durbin-Watson:                   0.898\n",
      "Prob(Omnibus):                  0.427   Jarque-Bera (JB):                1.008\n",
      "Skew:                           0.232   Prob(JB):                        0.604\n",
      "Kurtosis:                       1.901   Cond. No.                         549.\n",
      "==============================================================================\n",
      "\n",
      "Notes:\n",
      "[1] Standard Errors assume that the covariance matrix of the errors is correctly specified.\n"
     ]
    },
    {
     "name": "stderr",
     "output_type": "stream",
     "text": [
      "C:\\Users\\komputer\\anaconda3\\Lib\\site-packages\\scipy\\stats\\_stats_py.py:1736: UserWarning: kurtosistest only valid for n>=20 ... continuing anyway, n=17\n",
      "  warnings.warn(\"kurtosistest only valid for n>=20 ... continuing \"\n"
     ]
    }
   ],
   "source": [
    "# Tautan ke file CSVv\n",
    "url = \"https://raw.githubusercontent.com/hikmahhh/dataa/main/hikmahh.csv\"\n",
    "\n",
    "# Memuat data dari tautan CSV ke DataFrame\n",
    "df = pd.read_csv(url)\n",
    "\n",
    "# Menambahkan kolom konstanta (intercept)\n",
    "df = sm.add_constant(df)  \n",
    "\n",
    "# Membentuk model regresi\n",
    "model = sm.OLS(df['Y'], df[['const', 'X1', 'X2']])\n",
    "\n",
    "# Melakukan fitting model\n",
    "results = model.fit()\n",
    "\n",
    "# Menampilkan summary model regresi\n",
    "print(results.summary())"
   ]
  },
  {
   "cell_type": "code",
   "execution_count": 21,
   "id": "a7b5df0f-dd37-4177-90ce-b6aa3b618048",
   "metadata": {
    "tags": []
   },
   "outputs": [
    {
     "name": "stdout",
     "output_type": "stream",
     "text": [
      "Koefisien X1: 0.42077778469627225\n",
      "Koefisien X2: 0.12649892989874537\n",
      "Intercept: 39.00235598993606\n"
     ]
    },
    {
     "name": "stderr",
     "output_type": "stream",
     "text": [
      "C:\\Users\\komputer\\anaconda3\\Lib\\site-packages\\sklearn\\base.py:464: UserWarning:\n",
      "\n",
      "X does not have valid feature names, but LinearRegression was fitted with feature names\n",
      "\n"
     ]
    },
    {
     "data": {
      "image/png": "[encoded data removed]",
      "text/plain": [
       "<Figure size 640x480 with 1 Axes>"
      ]
     },
     "metadata": {},
     "output_type": "display_data"
    }
   ],
   "source": [
    "import numpy as np\n",
    "import pandas as pd\n",
    "import matplotlib.pyplot as plt\n",
    "from sklearn.linear_model import LinearRegression\n",
    "from mpl_toolkits.mplot3d import Axes3D\n",
    "\n",
    "# Memuat data dari tautan CSV\n",
    "url = \"https://raw.githubusercontent.com/hikmahhh/dataa/main/hikmahh.csv\"\n",
    "df = pd.read_csv(url)\n",
    "\n",
    "X = df[['X1', 'X2']]\n",
    "y = df['Y']\n",
    "\n",
    "model = LinearRegression()\n",
    "model.fit(X, y)\n",
    "\n",
    "# Koefisien regresi\n",
    "coef_x1 = model.coef_[0]\n",
    "coef_x2 = model.coef_[1]\n",
    "intercept = model.intercept_\n",
    "\n",
    "print(f'Koefisien X1: {coef_x1}')\n",
    "print(f'Koefisien X2: {coef_x2}')\n",
    "print(f'Intercept: {intercept}')\n",
    "\n",
    "fig = plt.figure()\n",
    "ax = fig.add_subplot(111, projection='3d')\n",
    "\n",
    "ax.scatter(df['X1'], df['X2'], df['Y'], c='r', marker='o')\n",
    "\n",
    "# Prediksi hasil regresi untuk plot permukaan\n",
    "x1_range = np.linspace(df['X1'].min(), df['X1'].max(), 20)\n",
    "x2_range = np.linspace(df['X2'].min(), df['X2'].max(), 20)\n",
    "x1_mesh, x2_mesh = np.meshgrid(x1_range, x2_range)\n",
    "y_pred = model.predict(np.column_stack((x1_mesh.ravel(), x2_mesh.ravel())))\n",
    "y_pred = y_pred.reshape(x1_mesh.shape)\n",
    "\n",
    "ax.plot_surface(x1_mesh, x2_mesh, y_pred, alpha=0.5)\n",
    "\n",
    "ax.set_xlabel('X1')\n",
    "ax.set_ylabel('X2')\n",
    "ax.set_zlabel('Y')\n",
    "\n",
    "plt.show()\n"
   ]
  },
  {
   "cell_type": "code",
   "execution_count": 28,
   "id": "67a6e932-949d-4a70-9302-249b289eaf19",
   "metadata": {
    "tags": []
   },
   "outputs": [
    {
     "name": "stderr",
     "output_type": "stream",
     "text": [
      "C:\\Users\\komputer\\anaconda3\\Lib\\site-packages\\scipy\\stats\\_stats_py.py:1736: UserWarning:\n",
      "\n",
      "kurtosistest only valid for n>=20 ... continuing anyway, n=17\n",
      "\n"
     ]
    },
    {
     "name": "stdout",
     "output_type": "stream",
     "text": [
      "                            OLS Regression Results                            \n",
      "==============================================================================\n",
      "Dep. Variable:                      Y   R-squared:                       0.791\n",
      "Model:                            OLS   Adj. R-squared:                  0.761\n",
      "Method:                 Least Squares   F-statistic:                     26.54\n",
      "Date:                Fri, 13 Oct 2023   Prob (F-statistic):           1.72e-05\n",
      "Time:                        22:00:54   Log-Likelihood:                -52.751\n",
      "No. Observations:                  17   AIC:                             111.5\n",
      "Df Residuals:                      14   BIC:                             114.0\n",
      "Df Model:                           2                                         \n",
      "Covariance Type:            nonrobust                                         \n",
      "==============================================================================\n",
      "                 coef    std err          t      P>|t|      [0.025      0.975]\n",
      "------------------------------------------------------------------------------\n",
      "const         39.0024      7.860      4.962      0.000      22.145      55.860\n",
      "X1             0.4208      0.213      1.971      0.069      -0.037       0.879\n",
      "X2             0.1265      0.159      0.797      0.439      -0.214       0.467\n",
      "==============================================================================\n",
      "Omnibus:                        1.701   Durbin-Watson:                   0.898\n",
      "Prob(Omnibus):                  0.427   Jarque-Bera (JB):                1.008\n",
      "Skew:                           0.232   Prob(JB):                        0.604\n",
      "Kurtosis:                       1.901   Cond. No.                         549.\n",
      "==============================================================================\n",
      "\n",
      "Notes:\n",
      "[1] Standard Errors assume that the covariance matrix of the errors is correctly specified.\n"
     ]
    },
    {
     "data": {
      "application/vnd.plotly.v1+json": {
       "config": {
        "plotlyServerURL": "https://plot.ly"
       },
       "data": [
        {
         "hovertemplate": "X1=%{x}<br>X2=%{y}<br>Y=%{z}<extra></extra>",
         "legendgroup": "",
         "marker": {
          "color": "#636efa",
          "symbol": "circle"
         },
         "mode": "markers",
         "name": "",
         "scene": "scene",
         "showlegend": false,
         "type": "scatter3d",
         "x": [
          50,
          40,
          60,
          55,
          45,
          65,
          70,
          75,
          80,
          90,
          89,
          87,
          90,
          88,
          93,
          85,
          100
         ],
         "y": [
          20,
          25,
          30,
          35,
          40,
          50,
          55,
          60,
          65,
          70,
          66,
          78,
          80,
          86,
          90,
          94,
          99
         ],
         "z": [
          60,
          55,
          65,
          70,
          62,
          75,
          80,
          85,
          90,
          95,
          77,
          78,
          80,
          83,
          86,
          90,
          95
         ]
        },
        {
         "colorscale": [
          [
           0,
           "#440154"
          ],
          [
           0.1111111111111111,
           "#482878"
          ],
          [
           0.2222222222222222,
           "#3e4989"
          ],
          [
           0.3333333333333333,
           "#31688e"
          ],
          [
           0.4444444444444444,
           "#26828e"
          ],
          [
           0.5555555555555556,
           "#1f9e89"
          ],
          [
           0.6666666666666666,
           "#35b779"
          ],
          [
           0.7777777777777778,
           "#6ece58"
          ],
          [
           0.8888888888888888,
           "#b5de2b"
          ],
          [
           1,
           "#fde725"
          ]
         ],
         "opacity": 0.8,
         "type": "surface",
         "x": [
          [
           50,
           40,
           60,
           55,
           45,
           65,
           70,
           75,
           80,
           90,
           89,
           87,
           90,
           88,
           93,
           85,
           100
          ],
          [
           50,
           40,
           60,
           55,
           45,
           65,
           70,
           75,
           80,
           90,
           89,
           87,
           90,
           88,
           93,
           85,
           100
          ],
          [
           50,
           40,
           60,
           55,
           45,
           65,
           70,
           75,
           80,
           90,
           89,
           87,
           90,
           88,
           93,
           85,
           100
          ],
          [
           50,
           40,
           60,
           55,
           45,
           65,
           70,
           75,
           80,
           90,
           89,
           87,
           90,
           88,
           93,
           85,
           100
          ],
          [
           50,
           40,
           60,
           55,
           45,
           65,
           70,
           75,
           80,
           90,
           89,
           87,
           90,
           88,
           93,
           85,
           100
          ],
          [
           50,
           40,
           60,
           55,
           45,
           65,
           70,
           75,
           80,
           90,
           89,
           87,
           90,
           88,
           93,
           85,
           100
          ],
          [
           50,
           40,
           60,
           55,
           45,
           65,
           70,
           75,
           80,
           90,
           89,
           87,
           90,
           88,
           93,
           85,
           100
          ],
          [
           50,
           40,
           60,
           55,
           45,
           65,
           70,
           75,
           80,
           90,
           89,
           87,
           90,
           88,
           93,
           85,
           100
          ],
          [
           50,
           40,
           60,
           55,
           45,
           65,
           70,
           75,
           80,
           90,
           89,
           87,
           90,
           88,
           93,
           85,
           100
          ],
          [
           50,
           40,
           60,
           55,
           45,
           65,
           70,
           75,
           80,
           90,
           89,
           87,
           90,
           88,
           93,
           85,
           100
          ],
          [
           50,
           40,
           60,
           55,
           45,
           65,
           70,
           75,
           80,
           90,
           89,
           87,
           90,
           88,
           93,
           85,
           100
          ],
          [
           50,
           40,
           60,
           55,
           45,
           65,
           70,
           75,
           80,
           90,
           89,
           87,
           90,
           88,
           93,
           85,
           100
          ],
          [
           50,
           40,
           60,
           55,
           45,
           65,
           70,
           75,
           80,
           90,
           89,
           87,
           90,
           88,
           93,
           85,
           100
          ],
          [
           50,
           40,
           60,
           55,
           45,
           65,
           70,
           75,
           80,
           90,
           89,
           87,
           90,
           88,
           93,
           85,
           100
          ],
          [
           50,
           40,
           60,
           55,
           45,
           65,
           70,
           75,
           80,
           90,
           89,
           87,
           90,
           88,
           93,
           85,
           100
          ],
          [
           50,
           40,
           60,
           55,
           45,
           65,
           70,
           75,
           80,
           90,
           89,
           87,
           90,
           88,
           93,
           85,
           100
          ],
          [
           50,
           40,
           60,
           55,
           45,
           65,
           70,
           75,
           80,
           90,
           89,
           87,
           90,
           88,
           93,
           85,
           100
          ]
         ],
         "y": [
          [
           20,
           20,
           20,
           20,
           20,
           20,
           20,
           20,
           20,
           20,
           20,
           20,
           20,
           20,
           20,
           20,
           20
          ],
          [
           25,
           25,
           25,
           25,
           25,
           25,
           25,
           25,
           25,
           25,
           25,
           25,
           25,
           25,
           25,
           25,
           25
          ],
          [
           30,
           30,
           30,
           30,
           30,
           30,
           30,
           30,
           30,
           30,
           30,
           30,
           30,
           30,
           30,
           30,
           30
          ],
          [
           35,
           35,
           35,
           35,
           35,
           35,
           35,
           35,
           35,
           35,
           35,
           35,
           35,
           35,
           35,
           35,
           35
          ],
          [
           40,
           40,
           40,
           40,
           40,
           40,
           40,
           40,
           40,
           40,
           40,
           40,
           40,
           40,
           40,
           40,
           40
          ],
          [
           50,
           50,
           50,
           50,
           50,
           50,
           50,
           50,
           50,
           50,
           50,
           50,
           50,
           50,
           50,
           50,
           50
          ],
          [
           55,
           55,
           55,
           55,
           55,
           55,
           55,
           55,
           55,
           55,
           55,
           55,
           55,
           55,
           55,
           55,
           55
          ],
          [
           60,
           60,
           60,
           60,
           60,
           60,
           60,
           60,
           60,
           60,
           60,
           60,
           60,
           60,
           60,
           60,
           60
          ],
          [
           65,
           65,
           65,
           65,
           65,
           65,
           65,
           65,
           65,
           65,
           65,
           65,
           65,
           65,
           65,
           65,
           65
          ],
          [
           70,
           70,
           70,
           70,
           70,
           70,
           70,
           70,
           70,
           70,
           70,
           70,
           70,
           70,
           70,
           70,
           70
          ],
          [
           66,
           66,
           66,
           66,
           66,
           66,
           66,
           66,
           66,
           66,
           66,
           66,
           66,
           66,
           66,
           66,
           66
          ],
          [
           78,
           78,
           78,
           78,
           78,
           78,
           78,
           78,
           78,
           78,
           78,
           78,
           78,
           78,
           78,
           78,
           78
          ],
          [
           80,
           80,
           80,
           80,
           80,
           80,
           80,
           80,
           80,
           80,
           80,
           80,
           80,
           80,
           80,
           80,
           80
          ],
          [
           86,
           86,
           86,
           86,
           86,
           86,
           86,
           86,
           86,
           86,
           86,
           86,
           86,
           86,
           86,
           86,
           86
          ],
          [
           90,
           90,
           90,
           90,
           90,
           90,
           90,
           90,
           90,
           90,
           90,
           90,
           90,
           90,
           90,
           90,
           90
          ],
          [
           94,
           94,
           94,
           94,
           94,
           94,
           94,
           94,
           94,
           94,
           94,
           94,
           94,
           94,
           94,
           94,
           94
          ],
          [
           99,
           99,
           99,
           99,
           99,
           99,
           99,
           99,
           99,
           99,
           99,
           99,
           99,
           99,
           99,
           99,
           99
          ]
         ],
         "z": [
          [
           62.57122382272454,
           58.36344597576182,
           66.77900166968726,
           64.6751127462059,
           60.46733489924318,
           68.88289059316861,
           70.98677951664997,
           73.09066844013134,
           75.1945573636127,
           79.40233521057542,
           78.98155742587915,
           78.1400018564866,
           79.40233521057542,
           78.56077964118288,
           80.66466856466424,
           77.29844628709407,
           83.61011305753814
          ],
          [
           63.20371847221826,
           58.99594062525554,
           67.411496319181,
           65.30760739569963,
           61.0998295487369,
           69.51538524266235,
           71.61927416614371,
           73.72316308962507,
           75.82705201310644,
           80.03482986006915,
           79.61405207537288,
           78.77249650598034,
           80.03482986006915,
           79.19327429067661,
           81.29716321415798,
           77.9309409365878,
           84.24260770703188
          ],
          [
           63.836213121711985,
           59.628435274749265,
           68.04399096867472,
           65.94010204519336,
           61.73232419823062,
           70.14787989215607,
           72.25176881563743,
           74.3556577391188,
           76.45954666260016,
           80.66732450956287,
           80.2465467248666,
           79.40499115547406,
           80.66732450956287,
           79.82576894017033,
           81.9296578636517,
           78.56343558608152,
           84.8751023565256
          ],
          [
           64.46870777120571,
           60.260929924242994,
           68.67648561816844,
           66.57259669468708,
           62.36481884772435,
           70.78037454164979,
           72.88426346513116,
           74.98815238861252,
           77.09204131209388,
           81.2998191590566,
           80.87904137436033,
           80.03748580496779,
           81.2998191590566,
           80.45826358966406,
           82.56215251314542,
           79.19593023557525,
           85.50759700601932
          ],
          [
           65.10120242069944,
           60.893424573736716,
           69.30898026766216,
           67.2050913441808,
           62.99731349721807,
           71.41286919114351,
           73.51675811462488,
           75.62064703810624,
           77.7245359615876,
           81.93231380855032,
           81.51153602385405,
           80.66998045446151,
           81.93231380855032,
           81.09075823915778,
           83.19464716263914,
           79.82842488506897,
           86.14009165551305
          ],
          [
           66.36619171968688,
           62.15841387272416,
           70.57396956664961,
           68.47008064316825,
           64.26230279620552,
           72.67785849013096,
           74.78174741361232,
           76.88563633709369,
           78.98952526057505,
           83.19730310753776,
           82.7765253228415,
           81.93496975344895,
           83.19730310753776,
           82.35574753814522,
           84.45963646162659,
           81.09341418405641,
           87.40508095450049
          ],
          [
           66.9986863691806,
           62.79090852221789,
           71.20646421614333,
           69.10257529266197,
           64.89479744569924,
           73.31035313962468,
           75.41424206310604,
           77.51813098658741,
           79.62201991006877,
           83.82979775703149,
           83.40901997233522,
           82.56746440294268,
           83.82979775703149,
           82.98824218763895,
           85.09213111112031,
           81.72590883355014,
           88.03757560399421
          ],
          [
           67.63118101867433,
           63.42340317171161,
           71.83895886563705,
           69.73506994215569,
           65.52729209519296,
           73.9428477891184,
           76.04673671259977,
           78.15062563608113,
           80.2545145595625,
           84.46229240652521,
           84.04151462182894,
           83.1999590524364,
           84.46229240652521,
           83.62073683713267,
           85.72462576061403,
           82.35840348304386,
           88.67007025348794
          ],
          [
           68.26367566816805,
           64.05589782120533,
           72.47145351513078,
           70.36756459164943,
           66.1597867446867,
           74.57534243861213,
           76.6792313620935,
           78.78312028557485,
           80.88700920905623,
           85.09478705601893,
           84.67400927132266,
           83.83245370193012,
           85.09478705601893,
           84.25323148662639,
           86.35712041010777,
           82.99089813253758,
           89.30256490298166
          ],
          [
           68.89617031766178,
           64.68839247069906,
           73.10394816462451,
           71.00005924114315,
           66.79228139418042,
           75.20783708810586,
           77.31172601158723,
           79.41561493506859,
           81.51950385854995,
           85.72728170551267,
           85.3065039208164,
           84.46494835142386,
           85.72728170551267,
           84.88572613612013,
           86.98961505960149,
           83.62339278203132,
           89.9350595524754
          ],
          [
           68.3901745980668,
           64.18239675110408,
           72.59795244502953,
           70.49406352154816,
           66.28628567458543,
           74.70184136851088,
           76.80573029199223,
           78.90961921547361,
           81.01350813895496,
           85.22128598591769,
           84.80050820122142,
           83.95895263182888,
           85.22128598591769,
           84.37973041652515,
           86.4836193400065,
           83.11739706243634,
           89.42906383288042
          ],
          [
           69.90816175685174,
           65.70038390988901,
           74.11593960381447,
           72.0120506803331,
           67.80427283337038,
           76.21982852729582,
           78.32371745077718,
           80.42760637425854,
           82.53149529773991,
           86.73927314470262,
           86.31849536000635,
           85.47693979061381,
           86.73927314470262,
           85.89771757531008,
           88.00160649879145,
           84.63538422122127,
           90.94705099166535
          ],
          [
           70.16115961664923,
           65.9533817696865,
           74.36893746361196,
           72.26504854013059,
           68.05727069316787,
           76.4728263870933,
           78.57671531057467,
           80.68060423405603,
           82.7844931575374,
           86.99227100450011,
           86.57149321980384,
           85.7299376504113,
           86.99227100450011,
           86.15071543510757,
           88.25460435858894,
           84.88838208101876,
           91.20004885146284
          ],
          [
           70.9201531960417,
           66.71237534907897,
           75.12793104300442,
           73.02404211952306,
           68.81626427256033,
           77.23181996648577,
           79.33570888996714,
           81.4395978134485,
           83.54348673692986,
           87.75126458389258,
           87.33048679919631,
           86.48893122980377,
           87.75126458389258,
           86.90970901450004,
           89.0135979379814,
           85.64737566041123,
           91.9590424308553
          ],
          [
           71.42614891563667,
           67.21837106867396,
           75.6339267625994,
           73.53003783911804,
           69.32225999215531,
           77.73781568608075,
           79.84170460956211,
           81.94559353304348,
           84.04948245652484,
           88.25726030348756,
           87.83648251879129,
           86.99492694939875,
           88.25726030348756,
           87.41570473409502,
           89.51959365757638,
           86.1533713800062,
           92.46503815045028
          ],
          [
           71.93214463523165,
           67.72436678826894,
           76.13992248219438,
           74.03603355871302,
           69.82825571175029,
           78.24381140567573,
           80.34770032915709,
           82.45158925263846,
           84.55547817611982,
           88.76325602308253,
           88.34247823838626,
           87.50092266899372,
           88.76325602308253,
           87.92170045369,
           90.02558937717136,
           86.65936709960118,
           92.97103387004526
          ],
          [
           72.56463928472537,
           68.35686143776266,
           76.7724171316881,
           74.66852820820674,
           70.46075036124401,
           78.87630605516945,
           80.98019497865081,
           83.08408390213218,
           85.18797282561354,
           89.39575067257626,
           88.97497288787999,
           88.13341731848745,
           89.39575067257626,
           88.55419510318372,
           90.65808402666508,
           87.2918617490949,
           93.60352851953898
          ]
         ]
        }
       ],
       "layout": {
        "autosize": true,
        "legend": {
         "tracegroupgap": 0
        },
        "scene": {
         "aspectmode": "auto",
         "aspectratio": {
          "x": 1.04441188684871,
          "y": 1.3751423176841349,
          "z": 0.6962745912324733
         },
         "domain": {
          "x": [
           0,
           1
          ],
          "y": [
           0,
           1
          ]
         },
         "xaxis": {
          "title": {
           "text": "X1"
          },
          "type": "linear"
         },
         "yaxis": {
          "title": {
           "text": "X2"
          },
          "type": "linear"
         },
         "zaxis": {
          "title": {
           "text": "Y"
          },
          "type": "linear"
         }
        },
        "template": {
         "data": {
          "bar": [
           {
            "error_x": {
             "color": "#2a3f5f"
            },
            "error_y": {
             "color": "#2a3f5f"
            },
            "marker": {
             "line": {
              "color": "#E5ECF6",
              "width": 0.5
             },
             "pattern": {
              "fillmode": "overlay",
              "size": 10,
              "solidity": 0.2
             }
            },
            "type": "bar"
           }
          ],
          "barpolar": [
           {
            "marker": {
             "line": {
              "color": "#E5ECF6",
              "width": 0.5
             },
             "pattern": {
              "fillmode": "overlay",
              "size": 10,
              "solidity": 0.2
             }
            },
            "type": "barpolar"
           }
          ],
          "carpet": [
           {
            "aaxis": {
             "endlinecolor": "#2a3f5f",
             "gridcolor": "white",
             "linecolor": "white",
             "minorgridcolor": "white",
             "startlinecolor": "#2a3f5f"
            },
            "baxis": {
             "endlinecolor": "#2a3f5f",
             "gridcolor": "white",
             "linecolor": "white",
             "minorgridcolor": "white",
             "startlinecolor": "#2a3f5f"
            },
            "type": "carpet"
           }
          ],
          "choropleth": [
           {
            "colorbar": {
             "outlinewidth": 0,
             "ticks": ""
            },
            "type": "choropleth"
           }
          ],
          "contour": [
           {
            "colorbar": {
             "outlinewidth": 0,
             "ticks": ""
            },
            "colorscale": [
             [
              0,
              "#0d0887"
             ],
             [
              0.1111111111111111,
              "#46039f"
             ],
             [
              0.2222222222222222,
              "#7201a8"
             ],
             [
              0.3333333333333333,
              "#9c179e"
             ],
             [
              0.4444444444444444,
              "#bd3786"
             ],
             [
              0.5555555555555556,
              "#d8576b"
             ],
             [
              0.6666666666666666,
              "#ed7953"
             ],
             [
              0.7777777777777778,
              "#fb9f3a"
             ],
             [
              0.8888888888888888,
              "#fdca26"
             ],
             [
              1,
              "#f0f921"
             ]
            ],
            "type": "contour"
           }
          ],
          "contourcarpet": [
           {
            "colorbar": {
             "outlinewidth": 0,
             "ticks": ""
            },
            "type": "contourcarpet"
           }
          ],
          "heatmap": [
           {
            "colorbar": {
             "outlinewidth": 0,
             "ticks": ""
            },
            "colorscale": [
             [
              0,
              "#0d0887"
             ],
             [
              0.1111111111111111,
              "#46039f"
             ],
             [
              0.2222222222222222,
              "#7201a8"
             ],
             [
              0.3333333333333333,
              "#9c179e"
             ],
             [
              0.4444444444444444,
              "#bd3786"
             ],
             [
              0.5555555555555556,
              "#d8576b"
             ],
             [
              0.6666666666666666,
              "#ed7953"
             ],
             [
              0.7777777777777778,
              "#fb9f3a"
             ],
             [
              0.8888888888888888,
              "#fdca26"
             ],
             [
              1,
              "#f0f921"
             ]
            ],
            "type": "heatmap"
           }
          ],
          "heatmapgl": [
           {
            "colorbar": {
             "outlinewidth": 0,
             "ticks": ""
            },
            "colorscale": [
             [
              0,
              "#0d0887"
             ],
             [
              0.1111111111111111,
              "#46039f"
             ],
             [
              0.2222222222222222,
              "#7201a8"
             ],
             [
              0.3333333333333333,
              "#9c179e"
             ],
             [
              0.4444444444444444,
              "#bd3786"
             ],
             [
              0.5555555555555556,
              "#d8576b"
             ],
             [
              0.6666666666666666,
              "#ed7953"
             ],
             [
              0.7777777777777778,
              "#fb9f3a"
             ],
             [
              0.8888888888888888,
              "#fdca26"
             ],
             [
              1,
              "#f0f921"
             ]
            ],
            "type": "heatmapgl"
           }
          ],
          "histogram": [
           {
            "marker": {
             "pattern": {
              "fillmode": "overlay",
              "size": 10,
              "solidity": 0.2
             }
            },
            "type": "histogram"
           }
          ],
          "histogram2d": [
           {
            "colorbar": {
             "outlinewidth": 0,
             "ticks": ""
            },
            "colorscale": [
             [
              0,
              "#0d0887"
             ],
             [
              0.1111111111111111,
              "#46039f"
             ],
             [
              0.2222222222222222,
              "#7201a8"
             ],
             [
              0.3333333333333333,
              "#9c179e"
             ],
             [
              0.4444444444444444,
              "#bd3786"
             ],
             [
              0.5555555555555556,
              "#d8576b"
             ],
             [
              0.6666666666666666,
              "#ed7953"
             ],
             [
              0.7777777777777778,
              "#fb9f3a"
             ],
             [
              0.8888888888888888,
              "#fdca26"
             ],
             [
              1,
              "#f0f921"
             ]
            ],
            "type": "histogram2d"
           }
          ],
          "histogram2dcontour": [
           {
            "colorbar": {
             "outlinewidth": 0,
             "ticks": ""
            },
            "colorscale": [
             [
              0,
              "#0d0887"
             ],
             [
              0.1111111111111111,
              "#46039f"
             ],
             [
              0.2222222222222222,
              "#7201a8"
             ],
             [
              0.3333333333333333,
              "#9c179e"
             ],
             [
              0.4444444444444444,
              "#bd3786"
             ],
             [
              0.5555555555555556,
              "#d8576b"
             ],
             [
              0.6666666666666666,
              "#ed7953"
             ],
             [
              0.7777777777777778,
              "#fb9f3a"
             ],
             [
              0.8888888888888888,
              "#fdca26"
             ],
             [
              1,
              "#f0f921"
             ]
            ],
            "type": "histogram2dcontour"
           }
          ],
          "mesh3d": [
           {
            "colorbar": {
             "outlinewidth": 0,
             "ticks": ""
            },
            "type": "mesh3d"
           }
          ],
          "parcoords": [
           {
            "line": {
             "colorbar": {
              "outlinewidth": 0,
              "ticks": ""
             }
            },
            "type": "parcoords"
           }
          ],
          "pie": [
           {
            "automargin": true,
            "type": "pie"
           }
          ],
          "scatter": [
           {
            "fillpattern": {
             "fillmode": "overlay",
             "size": 10,
             "solidity": 0.2
            },
            "type": "scatter"
           }
          ],
          "scatter3d": [
           {
            "line": {
             "colorbar": {
              "outlinewidth": 0,
              "ticks": ""
             }
            },
            "marker": {
             "colorbar": {
              "outlinewidth": 0,
              "ticks": ""
             }
            },
            "type": "scatter3d"
           }
          ],
          "scattercarpet": [
           {
            "marker": {
             "colorbar": {
              "outlinewidth": 0,
              "ticks": ""
             }
            },
            "type": "scattercarpet"
           }
          ],
          "scattergeo": [
           {
            "marker": {
             "colorbar": {
              "outlinewidth": 0,
              "ticks": ""
             }
            },
            "type": "scattergeo"
           }
          ],
          "scattergl": [
           {
            "marker": {
             "colorbar": {
              "outlinewidth": 0,
              "ticks": ""
             }
            },
            "type": "scattergl"
           }
          ],
          "scattermapbox": [
           {
            "marker": {
             "colorbar": {
              "outlinewidth": 0,
              "ticks": ""
             }
            },
            "type": "scattermapbox"
           }
          ],
          "scatterpolar": [
           {
            "marker": {
             "colorbar": {
              "outlinewidth": 0,
              "ticks": ""
             }
            },
            "type": "scatterpolar"
           }
          ],
          "scatterpolargl": [
           {
            "marker": {
             "colorbar": {
              "outlinewidth": 0,
              "ticks": ""
             }
            },
            "type": "scatterpolargl"
           }
          ],
          "scatterternary": [
           {
            "marker": {
             "colorbar": {
              "outlinewidth": 0,
              "ticks": ""
             }
            },
            "type": "scatterternary"
           }
          ],
          "surface": [
           {
            "colorbar": {
             "outlinewidth": 0,
             "ticks": ""
            },
            "colorscale": [
             [
              0,
              "#0d0887"
             ],
             [
              0.1111111111111111,
              "#46039f"
             ],
             [
              0.2222222222222222,
              "#7201a8"
             ],
             [
              0.3333333333333333,
              "#9c179e"
             ],
             [
              0.4444444444444444,
              "#bd3786"
             ],
             [
              0.5555555555555556,
              "#d8576b"
             ],
             [
              0.6666666666666666,
              "#ed7953"
             ],
             [
              0.7777777777777778,
              "#fb9f3a"
             ],
             [
              0.8888888888888888,
              "#fdca26"
             ],
             [
              1,
              "#f0f921"
             ]
            ],
            "type": "surface"
           }
          ],
          "table": [
           {
            "cells": {
             "fill": {
              "color": "#EBF0F8"
             },
             "line": {
              "color": "white"
             }
            },
            "header": {
             "fill": {
              "color": "#C8D4E3"
             },
             "line": {
              "color": "white"
             }
            },
            "type": "table"
           }
          ]
         },
         "layout": {
          "annotationdefaults": {
           "arrowcolor": "#2a3f5f",
           "arrowhead": 0,
           "arrowwidth": 1
          },
          "autotypenumbers": "strict",
          "coloraxis": {
           "colorbar": {
            "outlinewidth": 0,
            "ticks": ""
           }
          },
          "colorscale": {
           "diverging": [
            [
             0,
             "#8e0152"
            ],
            [
             0.1,
             "#c51b7d"
            ],
            [
             0.2,
             "#de77ae"
            ],
            [
             0.3,
             "#f1b6da"
            ],
            [
             0.4,
             "#fde0ef"
            ],
            [
             0.5,
             "#f7f7f7"
            ],
            [
             0.6,
             "#e6f5d0"
            ],
            [
             0.7,
             "#b8e186"
            ],
            [
             0.8,
             "#7fbc41"
            ],
            [
             0.9,
             "#4d9221"
            ],
            [
             1,
             "#276419"
            ]
           ],
           "sequential": [
            [
             0,
             "#0d0887"
            ],
            [
             0.1111111111111111,
             "#46039f"
            ],
            [
             0.2222222222222222,
             "#7201a8"
            ],
            [
             0.3333333333333333,
             "#9c179e"
            ],
            [
             0.4444444444444444,
             "#bd3786"
            ],
            [
             0.5555555555555556,
             "#d8576b"
            ],
            [
             0.6666666666666666,
             "#ed7953"
            ],
            [
             0.7777777777777778,
             "#fb9f3a"
            ],
            [
             0.8888888888888888,
             "#fdca26"
            ],
            [
             1,
             "#f0f921"
            ]
           ],
           "sequentialminus": [
            [
             0,
             "#0d0887"
            ],
            [
             0.1111111111111111,
             "#46039f"
            ],
            [
             0.2222222222222222,
             "#7201a8"
            ],
            [
             0.3333333333333333,
             "#9c179e"
            ],
            [
             0.4444444444444444,
             "#bd3786"
            ],
            [
             0.5555555555555556,
             "#d8576b"
            ],
            [
             0.6666666666666666,
             "#ed7953"
            ],
            [
             0.7777777777777778,
             "#fb9f3a"
            ],
            [
             0.8888888888888888,
             "#fdca26"
            ],
            [
             1,
             "#f0f921"
            ]
           ]
          },
          "colorway": [
           "#636efa",
           "#EF553B",
           "#00cc96",
           "#ab63fa",
           "#FFA15A",
           "#19d3f3",
           "#FF6692",
           "#B6E880",
           "#FF97FF",
           "#FECB52"
          ],
          "font": {
           "color": "#2a3f5f"
          },
          "geo": {
           "bgcolor": "white",
           "lakecolor": "white",
           "landcolor": "#E5ECF6",
           "showlakes": true,
           "showland": true,
           "subunitcolor": "white"
          },
          "hoverlabel": {
           "align": "left"
          },
          "hovermode": "closest",
          "mapbox": {
           "style": "light"
          },
          "paper_bgcolor": "white",
          "plot_bgcolor": "#E5ECF6",
          "polar": {
           "angularaxis": {
            "gridcolor": "white",
            "linecolor": "white",
            "ticks": ""
           },
           "bgcolor": "#E5ECF6",
           "radialaxis": {
            "gridcolor": "white",
            "linecolor": "white",
            "ticks": ""
           }
          },
          "scene": {
           "xaxis": {
            "backgroundcolor": "#E5ECF6",
            "gridcolor": "white",
            "gridwidth": 2,
            "linecolor": "white",
            "showbackground": true,
            "ticks": "",
            "zerolinecolor": "white"
           },
           "yaxis": {
            "backgroundcolor": "#E5ECF6",
            "gridcolor": "white",
            "gridwidth": 2,
            "linecolor": "white",
            "showbackground": true,
            "ticks": "",
            "zerolinecolor": "white"
           },
           "zaxis": {
            "backgroundcolor": "#E5ECF6",
            "gridcolor": "white",
            "gridwidth": 2,
            "linecolor": "white",
            "showbackground": true,
            "ticks": "",
            "zerolinecolor": "white"
           }
          },
          "shapedefaults": {
           "line": {
            "color": "#2a3f5f"
           }
          },
          "ternary": {
           "aaxis": {
            "gridcolor": "white",
            "linecolor": "white",
            "ticks": ""
           },
           "baxis": {
            "gridcolor": "white",
            "linecolor": "white",
            "ticks": ""
           },
           "bgcolor": "#E5ECF6",
           "caxis": {
            "gridcolor": "white",
            "linecolor": "white",
            "ticks": ""
           }
          },
          "title": {
           "x": 0.05
          },
          "xaxis": {
           "automargin": true,
           "gridcolor": "white",
           "linecolor": "white",
           "ticks": "",
           "title": {
            "standoff": 15
           },
           "zerolinecolor": "white",
           "zerolinewidth": 2
          },
          "yaxis": {
           "automargin": true,
           "gridcolor": "white",
           "linecolor": "white",
           "ticks": "",
           "title": {
            "standoff": 15
           },
           "zerolinecolor": "white",
           "zerolinewidth": 2
          }
         }
        },
        "title": {
         "text": "Scatter Plot 3D"
        }
       }
      },
      "image/png": "[encoded data removed]",
      "text/html": [
       "<div>                            <div id=\"6ff880df-f906-427f-8312-0bc1c868252f\" class=\"plotly-graph-div\" style=\"height:525px; width:100%;\"></div>            <script type=\"text/javascript\">                require([\"plotly\"], function(Plotly) {                    window.PLOTLYENV=window.PLOTLYENV || {};                                    if (document.getElementById(\"6ff880df-f906-427f-8312-0bc1c868252f\")) {                    Plotly.newPlot(                        \"6ff880df-f906-427f-8312-0bc1c868252f\",                        [{\"hovertemplate\":\"X1=%{x}<br>X2=%{y}<br>Y=%{z}<extra></extra>\",\"legendgroup\":\"\",\"marker\":{\"color\":\"#636efa\",\"symbol\":\"circle\"},\"mode\":\"markers\",\"name\":\"\",\"scene\":\"scene\",\"showlegend\":false,\"x\":[50,40,60,55,45,65,70,75,80,90,89,87,90,88,93,85,100],\"y\":[20,25,30,35,40,50,55,60,65,70,66,78,80,86,90,94,99],\"z\":[60,55,65,70,62,75,80,85,90,95,77,78,80,83,86,90,95],\"type\":\"scatter3d\"},{\"colorscale\":[[0.0,\"#440154\"],[0.1111111111111111,\"#482878\"],[0.2222222222222222,\"#3e4989\"],[0.3333333333333333,\"#31688e\"],[0.4444444444444444,\"#26828e\"],[0.5555555555555556,\"#1f9e89\"],[0.6666666666666666,\"#35b779\"],[0.7777777777777778,\"#6ece58\"],[0.8888888888888888,\"#b5de2b\"],[1.0,\"#fde725\"]],\"opacity\":0.8,\"x\":[[50,40,60,55,45,65,70,75,80,90,89,87,90,88,93,85,100],[50,40,60,55,45,65,70,75,80,90,89,87,90,88,93,85,100],[50,40,60,55,45,65,70,75,80,90,89,87,90,88,93,85,100],[50,40,60,55,45,65,70,75,80,90,89,87,90,88,93,85,100],[50,40,60,55,45,65,70,75,80,90,89,87,90,88,93,85,100],[50,40,60,55,45,65,70,75,80,90,89,87,90,88,93,85,100],[50,40,60,55,45,65,70,75,80,90,89,87,90,88,93,85,100],[50,40,60,55,45,65,70,75,80,90,89,87,90,88,93,85,100],[50,40,60,55,45,65,70,75,80,90,89,87,90,88,93,85,100],[50,40,60,55,45,65,70,75,80,90,89,87,90,88,93,85,100],[50,40,60,55,45,65,70,75,80,90,89,87,90,88,93,85,100],[50,40,60,55,45,65,70,75,80,90,89,87,90,88,93,85,100],[50,40,60,55,45,65,70,75,80,90,89,87,90,88,93,85,100],[50,40,60,55,45,65,70,75,80,90,89,87,90,88,93,85,100],[50,40,60,55,45,65,70,75,80,90,89,87,90,88,93,85,100],[50,40,60,55,45,65,70,75,80,90,89,87,90,88,93,85,100],[50,40,60,55,45,65,70,75,80,90,89,87,90,88,93,85,100]],\"y\":[[20,20,20,20,20,20,20,20,20,20,20,20,20,20,20,20,20],[25,25,25,25,25,25,25,25,25,25,25,25,25,25,25,25,25],[30,30,30,30,30,30,30,30,30,30,30,30,30,30,30,30,30],[35,35,35,35,35,35,35,35,35,35,35,35,35,35,35,35,35],[40,40,40,40,40,40,40,40,40,40,40,40,40,40,40,40,40],[50,50,50,50,50,50,50,50,50,50,50,50,50,50,50,50,50],[55,55,55,55,55,55,55,55,55,55,55,55,55,55,55,55,55],[60,60,60,60,60,60,60,60,60,60,60,60,60,60,60,60,60],[65,65,65,65,65,65,65,65,65,65,65,65,65,65,65,65,65],[70,70,70,70,70,70,70,70,70,70,70,70,70,70,70,70,70],[66,66,66,66,66,66,66,66,66,66,66,66,66,66,66,66,66],[78,78,78,78,78,78,78,78,78,78,78,78,78,78,78,78,78],[80,80,80,80,80,80,80,80,80,80,80,80,80,80,80,80,80],[86,86,86,86,86,86,86,86,86,86,86,86,86,86,86,86,86],[90,90,90,90,90,90,90,90,90,90,90,90,90,90,90,90,90],[94,94,94,94,94,94,94,94,94,94,94,94,94,94,94,94,94],[99,99,99,99,99,99,99,99,99,99,99,99,99,99,99,99,99]],\"z\":[[62.57122382272454,58.36344597576182,66.77900166968726,64.6751127462059,60.46733489924318,68.88289059316861,70.98677951664997,73.09066844013134,75.1945573636127,79.40233521057542,78.98155742587915,78.1400018564866,79.40233521057542,78.56077964118288,80.66466856466424,77.29844628709407,83.61011305753814],[63.20371847221826,58.99594062525554,67.411496319181,65.30760739569963,61.0998295487369,69.51538524266235,71.61927416614371,73.72316308962507,75.82705201310644,80.03482986006915,79.61405207537288,78.77249650598034,80.03482986006915,79.19327429067661,81.29716321415798,77.9309409365878,84.24260770703188],[63.836213121711985,59.628435274749265,68.04399096867472,65.94010204519336,61.73232419823062,70.14787989215607,72.25176881563743,74.3556577391188,76.45954666260016,80.66732450956287,80.2465467248666,79.40499115547406,80.66732450956287,79.82576894017033,81.9296578636517,78.56343558608152,84.8751023565256],[64.46870777120571,60.260929924242994,68.67648561816844,66.57259669468708,62.36481884772435,70.78037454164979,72.88426346513116,74.98815238861252,77.09204131209388,81.2998191590566,80.87904137436033,80.03748580496779,81.2998191590566,80.45826358966406,82.56215251314542,79.19593023557525,85.50759700601932],[65.10120242069944,60.893424573736716,69.30898026766216,67.2050913441808,62.99731349721807,71.41286919114351,73.51675811462488,75.62064703810624,77.7245359615876,81.93231380855032,81.51153602385405,80.66998045446151,81.93231380855032,81.09075823915778,83.19464716263914,79.82842488506897,86.14009165551305],[66.36619171968688,62.15841387272416,70.57396956664961,68.47008064316825,64.26230279620552,72.67785849013096,74.78174741361232,76.88563633709369,78.98952526057505,83.19730310753776,82.7765253228415,81.93496975344895,83.19730310753776,82.35574753814522,84.45963646162659,81.09341418405641,87.40508095450049],[66.9986863691806,62.79090852221789,71.20646421614333,69.10257529266197,64.89479744569924,73.31035313962468,75.41424206310604,77.51813098658741,79.62201991006877,83.82979775703149,83.40901997233522,82.56746440294268,83.82979775703149,82.98824218763895,85.09213111112031,81.72590883355014,88.03757560399421],[67.63118101867433,63.42340317171161,71.83895886563705,69.73506994215569,65.52729209519296,73.9428477891184,76.04673671259977,78.15062563608113,80.2545145595625,84.46229240652521,84.04151462182894,83.1999590524364,84.46229240652521,83.62073683713267,85.72462576061403,82.35840348304386,88.67007025348794],[68.26367566816805,64.05589782120533,72.47145351513078,70.36756459164943,66.1597867446867,74.57534243861213,76.6792313620935,78.78312028557485,80.88700920905623,85.09478705601893,84.67400927132266,83.83245370193012,85.09478705601893,84.25323148662639,86.35712041010777,82.99089813253758,89.30256490298166],[68.89617031766178,64.68839247069906,73.10394816462451,71.00005924114315,66.79228139418042,75.20783708810586,77.31172601158723,79.41561493506859,81.51950385854995,85.72728170551267,85.3065039208164,84.46494835142386,85.72728170551267,84.88572613612013,86.98961505960149,83.62339278203132,89.9350595524754],[68.3901745980668,64.18239675110408,72.59795244502953,70.49406352154816,66.28628567458543,74.70184136851088,76.80573029199223,78.90961921547361,81.01350813895496,85.22128598591769,84.80050820122142,83.95895263182888,85.22128598591769,84.37973041652515,86.4836193400065,83.11739706243634,89.42906383288042],[69.90816175685174,65.70038390988901,74.11593960381447,72.0120506803331,67.80427283337038,76.21982852729582,78.32371745077718,80.42760637425854,82.53149529773991,86.73927314470262,86.31849536000635,85.47693979061381,86.73927314470262,85.89771757531008,88.00160649879145,84.63538422122127,90.94705099166535],[70.16115961664923,65.9533817696865,74.36893746361196,72.26504854013059,68.05727069316787,76.4728263870933,78.57671531057467,80.68060423405603,82.7844931575374,86.99227100450011,86.57149321980384,85.7299376504113,86.99227100450011,86.15071543510757,88.25460435858894,84.88838208101876,91.20004885146284],[70.9201531960417,66.71237534907897,75.12793104300442,73.02404211952306,68.81626427256033,77.23181996648577,79.33570888996714,81.4395978134485,83.54348673692986,87.75126458389258,87.33048679919631,86.48893122980377,87.75126458389258,86.90970901450004,89.0135979379814,85.64737566041123,91.9590424308553],[71.42614891563667,67.21837106867396,75.6339267625994,73.53003783911804,69.32225999215531,77.73781568608075,79.84170460956211,81.94559353304348,84.04948245652484,88.25726030348756,87.83648251879129,86.99492694939875,88.25726030348756,87.41570473409502,89.51959365757638,86.1533713800062,92.46503815045028],[71.93214463523165,67.72436678826894,76.13992248219438,74.03603355871302,69.82825571175029,78.24381140567573,80.34770032915709,82.45158925263846,84.55547817611982,88.76325602308253,88.34247823838626,87.50092266899372,88.76325602308253,87.92170045369,90.02558937717136,86.65936709960118,92.97103387004526],[72.56463928472537,68.35686143776266,76.7724171316881,74.66852820820674,70.46075036124401,78.87630605516945,80.98019497865081,83.08408390213218,85.18797282561354,89.39575067257626,88.97497288787999,88.13341731848745,89.39575067257626,88.55419510318372,90.65808402666508,87.2918617490949,93.60352851953898]],\"type\":\"surface\"}],                        {\"template\":{\"data\":{\"histogram2dcontour\":[{\"type\":\"histogram2dcontour\",\"colorbar\":{\"outlinewidth\":0,\"ticks\":\"\"},\"colorscale\":[[0.0,\"#0d0887\"],[0.1111111111111111,\"#46039f\"],[0.2222222222222222,\"#7201a8\"],[0.3333333333333333,\"#9c179e\"],[0.4444444444444444,\"#bd3786\"],[0.5555555555555556,\"#d8576b\"],[0.6666666666666666,\"#ed7953\"],[0.7777777777777778,\"#fb9f3a\"],[0.8888888888888888,\"#fdca26\"],[1.0,\"#f0f921\"]]}],\"choropleth\":[{\"type\":\"choropleth\",\"colorbar\":{\"outlinewidth\":0,\"ticks\":\"\"}}],\"histogram2d\":[{\"type\":\"histogram2d\",\"colorbar\":{\"outlinewidth\":0,\"ticks\":\"\"},\"colorscale\":[[0.0,\"#0d0887\"],[0.1111111111111111,\"#46039f\"],[0.2222222222222222,\"#7201a8\"],[0.3333333333333333,\"#9c179e\"],[0.4444444444444444,\"#bd3786\"],[0.5555555555555556,\"#d8576b\"],[0.6666666666666666,\"#ed7953\"],[0.7777777777777778,\"#fb9f3a\"],[0.8888888888888888,\"#fdca26\"],[1.0,\"#f0f921\"]]}],\"heatmap\":[{\"type\":\"heatmap\",\"colorbar\":{\"outlinewidth\":0,\"ticks\":\"\"},\"colorscale\":[[0.0,\"#0d0887\"],[0.1111111111111111,\"#46039f\"],[0.2222222222222222,\"#7201a8\"],[0.3333333333333333,\"#9c179e\"],[0.4444444444444444,\"#bd3786\"],[0.5555555555555556,\"#d8576b\"],[0.6666666666666666,\"#ed7953\"],[0.7777777777777778,\"#fb9f3a\"],[0.8888888888888888,\"#fdca26\"],[1.0,\"#f0f921\"]]}],\"heatmapgl\":[{\"type\":\"heatmapgl\",\"colorbar\":{\"outlinewidth\":0,\"ticks\":\"\"},\"colorscale\":[[0.0,\"#0d0887\"],[0.1111111111111111,\"#46039f\"],[0.2222222222222222,\"#7201a8\"],[0.3333333333333333,\"#9c179e\"],[0.4444444444444444,\"#bd3786\"],[0.5555555555555556,\"#d8576b\"],[0.6666666666666666,\"#ed7953\"],[0.7777777777777778,\"#fb9f3a\"],[0.8888888888888888,\"#fdca26\"],[1.0,\"#f0f921\"]]}],\"contourcarpet\":[{\"type\":\"contourcarpet\",\"colorbar\":{\"outlinewidth\":0,\"ticks\":\"\"}}],\"contour\":[{\"type\":\"contour\",\"colorbar\":{\"outlinewidth\":0,\"ticks\":\"\"},\"colorscale\":[[0.0,\"#0d0887\"],[0.1111111111111111,\"#46039f\"],[0.2222222222222222,\"#7201a8\"],[0.3333333333333333,\"#9c179e\"],[0.4444444444444444,\"#bd3786\"],[0.5555555555555556,\"#d8576b\"],[0.6666666666666666,\"#ed7953\"],[0.7777777777777778,\"#fb9f3a\"],[0.8888888888888888,\"#fdca26\"],[1.0,\"#f0f921\"]]}],\"surface\":[{\"type\":\"surface\",\"colorbar\":{\"outlinewidth\":0,\"ticks\":\"\"},\"colorscale\":[[0.0,\"#0d0887\"],[0.1111111111111111,\"#46039f\"],[0.2222222222222222,\"#7201a8\"],[0.3333333333333333,\"#9c179e\"],[0.4444444444444444,\"#bd3786\"],[0.5555555555555556,\"#d8576b\"],[0.6666666666666666,\"#ed7953\"],[0.7777777777777778,\"#fb9f3a\"],[0.8888888888888888,\"#fdca26\"],[1.0,\"#f0f921\"]]}],\"mesh3d\":[{\"type\":\"mesh3d\",\"colorbar\":{\"outlinewidth\":0,\"ticks\":\"\"}}],\"scatter\":[{\"fillpattern\":{\"fillmode\":\"overlay\",\"size\":10,\"solidity\":0.2},\"type\":\"scatter\"}],\"parcoords\":[{\"type\":\"parcoords\",\"line\":{\"colorbar\":{\"outlinewidth\":0,\"ticks\":\"\"}}}],\"scatterpolargl\":[{\"type\":\"scatterpolargl\",\"marker\":{\"colorbar\":{\"outlinewidth\":0,\"ticks\":\"\"}}}],\"bar\":[{\"error_x\":{\"color\":\"#2a3f5f\"},\"error_y\":{\"color\":\"#2a3f5f\"},\"marker\":{\"line\":{\"color\":\"#E5ECF6\",\"width\":0.5},\"pattern\":{\"fillmode\":\"overlay\",\"size\":10,\"solidity\":0.2}},\"type\":\"bar\"}],\"scattergeo\":[{\"type\":\"scattergeo\",\"marker\":{\"colorbar\":{\"outlinewidth\":0,\"ticks\":\"\"}}}],\"scatterpolar\":[{\"type\":\"scatterpolar\",\"marker\":{\"colorbar\":{\"outlinewidth\":0,\"ticks\":\"\"}}}],\"histogram\":[{\"marker\":{\"pattern\":{\"fillmode\":\"overlay\",\"size\":10,\"solidity\":0.2}},\"type\":\"histogram\"}],\"scattergl\":[{\"type\":\"scattergl\",\"marker\":{\"colorbar\":{\"outlinewidth\":0,\"ticks\":\"\"}}}],\"scatter3d\":[{\"type\":\"scatter3d\",\"line\":{\"colorbar\":{\"outlinewidth\":0,\"ticks\":\"\"}},\"marker\":{\"colorbar\":{\"outlinewidth\":0,\"ticks\":\"\"}}}],\"scattermapbox\":[{\"type\":\"scattermapbox\",\"marker\":{\"colorbar\":{\"outlinewidth\":0,\"ticks\":\"\"}}}],\"scatterternary\":[{\"type\":\"scatterternary\",\"marker\":{\"colorbar\":{\"outlinewidth\":0,\"ticks\":\"\"}}}],\"scattercarpet\":[{\"type\":\"scattercarpet\",\"marker\":{\"colorbar\":{\"outlinewidth\":0,\"ticks\":\"\"}}}],\"carpet\":[{\"aaxis\":{\"endlinecolor\":\"#2a3f5f\",\"gridcolor\":\"white\",\"linecolor\":\"white\",\"minorgridcolor\":\"white\",\"startlinecolor\":\"#2a3f5f\"},\"baxis\":{\"endlinecolor\":\"#2a3f5f\",\"gridcolor\":\"white\",\"linecolor\":\"white\",\"minorgridcolor\":\"white\",\"startlinecolor\":\"#2a3f5f\"},\"type\":\"carpet\"}],\"table\":[{\"cells\":{\"fill\":{\"color\":\"#EBF0F8\"},\"line\":{\"color\":\"white\"}},\"header\":{\"fill\":{\"color\":\"#C8D4E3\"},\"line\":{\"color\":\"white\"}},\"type\":\"table\"}],\"barpolar\":[{\"marker\":{\"line\":{\"color\":\"#E5ECF6\",\"width\":0.5},\"pattern\":{\"fillmode\":\"overlay\",\"size\":10,\"solidity\":0.2}},\"type\":\"barpolar\"}],\"pie\":[{\"automargin\":true,\"type\":\"pie\"}]},\"layout\":{\"autotypenumbers\":\"strict\",\"colorway\":[\"#636efa\",\"#EF553B\",\"#00cc96\",\"#ab63fa\",\"#FFA15A\",\"#19d3f3\",\"#FF6692\",\"#B6E880\",\"#FF97FF\",\"#FECB52\"],\"font\":{\"color\":\"#2a3f5f\"},\"hovermode\":\"closest\",\"hoverlabel\":{\"align\":\"left\"},\"paper_bgcolor\":\"white\",\"plot_bgcolor\":\"#E5ECF6\",\"polar\":{\"bgcolor\":\"#E5ECF6\",\"angularaxis\":{\"gridcolor\":\"white\",\"linecolor\":\"white\",\"ticks\":\"\"},\"radialaxis\":{\"gridcolor\":\"white\",\"linecolor\":\"white\",\"ticks\":\"\"}},\"ternary\":{\"bgcolor\":\"#E5ECF6\",\"aaxis\":{\"gridcolor\":\"white\",\"linecolor\":\"white\",\"ticks\":\"\"},\"baxis\":{\"gridcolor\":\"white\",\"linecolor\":\"white\",\"ticks\":\"\"},\"caxis\":{\"gridcolor\":\"white\",\"linecolor\":\"white\",\"ticks\":\"\"}},\"coloraxis\":{\"colorbar\":{\"outlinewidth\":0,\"ticks\":\"\"}},\"colorscale\":{\"sequential\":[[0.0,\"#0d0887\"],[0.1111111111111111,\"#46039f\"],[0.2222222222222222,\"#7201a8\"],[0.3333333333333333,\"#9c179e\"],[0.4444444444444444,\"#bd3786\"],[0.5555555555555556,\"#d8576b\"],[0.6666666666666666,\"#ed7953\"],[0.7777777777777778,\"#fb9f3a\"],[0.8888888888888888,\"#fdca26\"],[1.0,\"#f0f921\"]],\"sequentialminus\":[[0.0,\"#0d0887\"],[0.1111111111111111,\"#46039f\"],[0.2222222222222222,\"#7201a8\"],[0.3333333333333333,\"#9c179e\"],[0.4444444444444444,\"#bd3786\"],[0.5555555555555556,\"#d8576b\"],[0.6666666666666666,\"#ed7953\"],[0.7777777777777778,\"#fb9f3a\"],[0.8888888888888888,\"#fdca26\"],[1.0,\"#f0f921\"]],\"diverging\":[[0,\"#8e0152\"],[0.1,\"#c51b7d\"],[0.2,\"#de77ae\"],[0.3,\"#f1b6da\"],[0.4,\"#fde0ef\"],[0.5,\"#f7f7f7\"],[0.6,\"#e6f5d0\"],[0.7,\"#b8e186\"],[0.8,\"#7fbc41\"],[0.9,\"#4d9221\"],[1,\"#276419\"]]},\"xaxis\":{\"gridcolor\":\"white\",\"linecolor\":\"white\",\"ticks\":\"\",\"title\":{\"standoff\":15},\"zerolinecolor\":\"white\",\"automargin\":true,\"zerolinewidth\":2},\"yaxis\":{\"gridcolor\":\"white\",\"linecolor\":\"white\",\"ticks\":\"\",\"title\":{\"standoff\":15},\"zerolinecolor\":\"white\",\"automargin\":true,\"zerolinewidth\":2},\"scene\":{\"xaxis\":{\"backgroundcolor\":\"#E5ECF6\",\"gridcolor\":\"white\",\"linecolor\":\"white\",\"showbackground\":true,\"ticks\":\"\",\"zerolinecolor\":\"white\",\"gridwidth\":2},\"yaxis\":{\"backgroundcolor\":\"#E5ECF6\",\"gridcolor\":\"white\",\"linecolor\":\"white\",\"showbackground\":true,\"ticks\":\"\",\"zerolinecolor\":\"white\",\"gridwidth\":2},\"zaxis\":{\"backgroundcolor\":\"#E5ECF6\",\"gridcolor\":\"white\",\"linecolor\":\"white\",\"showbackground\":true,\"ticks\":\"\",\"zerolinecolor\":\"white\",\"gridwidth\":2}},\"shapedefaults\":{\"line\":{\"color\":\"#2a3f5f\"}},\"annotationdefaults\":{\"arrowcolor\":\"#2a3f5f\",\"arrowhead\":0,\"arrowwidth\":1},\"geo\":{\"bgcolor\":\"white\",\"landcolor\":\"#E5ECF6\",\"subunitcolor\":\"white\",\"showland\":true,\"showlakes\":true,\"lakecolor\":\"white\"},\"title\":{\"x\":0.05},\"mapbox\":{\"style\":\"light\"}}},\"scene\":{\"domain\":{\"x\":[0.0,1.0],\"y\":[0.0,1.0]},\"xaxis\":{\"title\":{\"text\":\"X1\"}},\"yaxis\":{\"title\":{\"text\":\"X2\"}},\"zaxis\":{\"title\":{\"text\":\"Y\"}}},\"legend\":{\"tracegroupgap\":0},\"title\":{\"text\":\"Scatter Plot 3D\"}},                        {\"responsive\": true}                    ).then(function(){\n",
       "                            \n",
       "var gd = document.getElementById('6ff880df-f906-427f-8312-0bc1c868252f');\n",
       "var x = new MutationObserver(function (mutations, observer) {{\n",
       "        var display = window.getComputedStyle(gd).display;\n",
       "        if (!display || display === 'none') {{\n",
       "            console.log([gd, 'removed!']);\n",
       "            Plotly.purge(gd);\n",
       "            observer.disconnect();\n",
       "        }}\n",
       "}});\n",
       "\n",
       "// Listen for the removal of the full notebook cells\n",
       "var notebookContainer = gd.closest('#notebook-container');\n",
       "if (notebookContainer) {{\n",
       "    x.observe(notebookContainer, {childList: true});\n",
       "}}\n",
       "\n",
       "// Listen for the clearing of the current output cell\n",
       "var outputEl = gd.closest('.output');\n",
       "if (outputEl) {{\n",
       "    x.observe(outputEl, {childList: true});\n",
       "}}\n",
       "\n",
       "                        })                };                });            </script>        </div>"
      ]
     },
     "metadata": {},
     "output_type": "display_data"
    },
    {
     "data": {
      "text/plain": [
       "' from statsmodels.stats.diagnostic import het_breuschpagan\\n\\n_, p_value, _, _ = het_breuschpagan(model.resid, X)\\nif p_value < 0.05:\\n    print(\"Terdapat bukti heteroskedastisitas.\")\\nelse:\\n    print(\"Tidak terdapat bukti heteroskedastisitas.\") '"
      ]
     },
     "execution_count": 28,
     "metadata": {},
     "output_type": "execute_result"
    }
   ],
   "source": [
    "import numpy as np\n",
    "import pandas as pd\n",
    "import statsmodels.api as sm\n",
    "import plotly.express as px\n",
    "import plotly.graph_objects as go\n",
    "\n",
    "# Memuat data dari tautan CSV\n",
    "url = \"https://raw.githubusercontent.com/hikmahhh/dataa/main/hikmahh.csv\"\n",
    "df = pd.read_csv(url)\n",
    "\n",
    "X = df[['X1', 'X2']]  # Variabel independen\n",
    "X = sm.add_constant(X)  # Tambahkan konstanta\n",
    "Y = df['Y']  # Variabel dependen\n",
    "\n",
    "model = sm.OLS(Y, X).fit()  # Membuat model regresi OLS\n",
    "summary = model.summary()  # Tampilkan ringkasan model\n",
    "print(summary)\n",
    "\n",
    "# Scatter plot untuk melihat hubungan antara X1, X2, dan Y\n",
    "fig = px.scatter_3d(df, x='X1', y='X2', z='Y', title='Scatter Plot 3D')\n",
    "\n",
    "# Regresi berganda sebagai bidang\n",
    "xx, yy = np.meshgrid(df['X1'], df['X2'])\n",
    "zz = model.params['const'] + model.params['X1'] * xx + model.params['X2'] * yy\n",
    "fig.add_trace(go.Surface(x=xx, y=yy, z=zz, opacity=0.8, colorscale='Viridis'))\n",
    "\n",
    "fig.show()\n",
    "\n",
    "''' from statsmodels.stats.diagnostic import het_breuschpagan\n",
    "\n",
    "_, p_value, _, _ = het_breuschpagan(model.resid, X)\n",
    "if p_value < 0.05:\n",
    "    print(\"Terdapat bukti heteroskedastisitas.\")\n",
    "else:\n",
    "    print(\"Tidak terdapat bukti heteroskedastisitas.\") '''\n"
   ]
  },
  {
   "cell_type": "markdown",
   "id": "b6a9ae37-dd8d-425d-b420-0377f28bef63",
   "metadata": {},
   "source": [
    "## Uji Autokorelasi"
   ]
  },
  {
   "cell_type": "code",
   "execution_count": 27,
   "id": "833c4826-c0f6-451c-9e14-3350c6eb31fa",
   "metadata": {
    "tags": []
   },
   "outputs": [
    {
     "data": {
      "image/png": "[encoded data removed]",
      "text/plain": [
       "<Figure size 640x480 with 1 Axes>"
      ]
     },
     "metadata": {},
     "output_type": "display_data"
    }
   ],
   "source": [
    "fig, ax = plt.subplots()\n",
    "plot_acf(df['Y'], ax=ax, color='blue')\n",
    "ax.set_xlabel('Lag')\n",
    "ax.set_ylabel('Autocorrelation')\n",
    "plt.title('Visualisasi ACF Plot')\n",
    "plt.savefig('Visualisasi ACF Plot')\n",
    "plt.show()"
   ]
  },
  {
   "cell_type": "markdown",
   "id": "320636d9-64ab-42c5-b0a9-d8fc3914fc59",
   "metadata": {},
   "source": [
    "## Uji Heterokedastisitas"
   ]
  },
  {
   "cell_type": "code",
   "execution_count": 15,
   "id": "463e6dda-1f20-4a76-92fd-86005abedc46",
   "metadata": {
    "tags": []
   },
   "outputs": [
    {
     "name": "stdout",
     "output_type": "stream",
     "text": [
      "(6.660442532007251, 0.2471428434333888, 1.3980403123842544, 0.28409930047024085)\n"
     ]
    }
   ],
   "source": [
    "X = df[['X1', 'X2']]\n",
    "y = df['Y']\n",
    "\n",
    "X = sm.add_constant(X)\n",
    "model = sm.OLS(y, X)\n",
    "result = model.fit()\n",
    "result_het_white_test = het_white(result.resid, X)\n",
    "print(result_het_white_test)"
   ]
  },
  {
   "cell_type": "markdown",
   "id": "fcb81f78-baf8-4d23-9735-a7b3bb58ecc5",
   "metadata": {},
   "source": [
    "## Uji Multikoloneritas"
   ]
  },
  {
   "cell_type": "code",
   "execution_count": 18,
   "id": "62069fad-c45f-4782-9446-71be74ef6f13",
   "metadata": {
    "tags": []
   },
   "outputs": [
    {
     "name": "stdout",
     "output_type": "stream",
     "text": [
      "             VIF\n",
      "const  15.268980\n",
      "X1      5.965771\n",
      "X2      1.193833\n",
      "Y       5.630925\n"
     ]
    }
   ],
   "source": [
    "import pandas as pd\n",
    "from statsmodels.stats.outliers_influence import variance_inflation_factor\n",
    "\n",
    "# Gantilah \"df\" dengan DataFrame yang sesuai\n",
    "df = sm.add_constant(df) \n",
    "\n",
    "VIF = pd.DataFrame()\n",
    "VIF['VIF'] = [variance_inflation_factor(df.values, i) for i in range(df.shape[1])]\n",
    "VIF.index = df.columns\n",
    "print(VIF)\n"
   ]
  },
  {
   "cell_type": "code",
   "execution_count": null,
   "id": "a267bcd0-3a1e-44e6-999f-204841e609c3",
   "metadata": {},
   "outputs": [],
   "source": []
  }
 ],
 "metadata": {
  "kernelspec": {
   "display_name": "Python 3 (ipykernel)",
   "language": "python",
   "name": "python3"
  },
  "language_info": {
   "codemirror_mode": {
    "name": "ipython",
    "version": 3
   },
   "file_extension": ".py",
   "mimetype": "text/x-python",
   "name": "python",
   "nbconvert_exporter": "python",
   "pygments_lexer": "ipython3",
   "version": "3.11.4"
  }
 },
 "nbformat": 4,
 "nbformat_minor": 5
}
